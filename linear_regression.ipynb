{
 "cells": [
  {
   "cell_type": "code",
   "execution_count": 36,
   "metadata": {},
   "outputs": [
    {
     "name": "stdout",
     "output_type": "stream",
     "text": [
      "-1.3536754507628295 74.11511789181692\n"
     ]
    }
   ],
   "source": [
    "import numpy as np\n",
    "x=[30,28,32,25,25,25,22,24,35,40]\n",
    "y=[25,30,27,40,42,40,50,45,30,25]\n",
    "xbar=np.mean(x)\n",
    "ybar=np.mean(y)\n",
    "sub=0.0\n",
    "par=0.0\n",
    "for i in range(len(x)):\n",
    "    sub+=(x[i]-xbar)*(y[i]-ybar)\n",
    "    par+=(x[i]-xbar)**2\n",
    "\n",
    "b1=sub/par\n",
    "b0=ybar-b1*xbar\n",
    "print(b1,b0)"
   ]
  },
  {
   "cell_type": "code",
   "execution_count": 51,
   "metadata": {},
   "outputs": [
    {
     "name": "stdout",
     "output_type": "stream",
     "text": [
      "20.792510402219133 25.990638002773917\n"
     ]
    }
   ],
   "source": [
    "haty=[0.0]*len(x)\n",
    "e=[0.0]*len(x)\n",
    "for i in range(len(x)):\n",
    "    haty[i]=b1*x[i]+b0\n",
    "    e[i]=y[i]-haty[i]\n",
    "MLE=0.0\n",
    "SSE=0.0\n",
    "for i in range(len(e)):\n",
    "    SSE+=e[i]**2\n",
    "MLE=SSE/len(e)\n",
    "MSE=SSE/(len(e)-2)\n",
    "print(MLE,MSE)\n"
   ]
  },
  {
   "cell_type": "code",
   "execution_count": 8,
   "metadata": {},
   "outputs": [
    {
     "data": {
      "text/plain": [
       "(-1.3536754507628295, 74.11511789181692)"
      ]
     },
     "execution_count": 8,
     "metadata": {},
     "output_type": "execute_result"
    }
   ],
   "source": [
    "import scipy.stats as st\n",
    "slope,intercept,r_value,p_value,std_err = st.linregress(x,y)\n",
    "slope,intercept"
   ]
  }
 ],
 "metadata": {
  "interpreter": {
   "hash": "8aca77b7e8d53afb9377d30c8cb0b3d15d2ac7a2839c3687ca79236910134408"
  },
  "kernelspec": {
   "display_name": "gempy",
   "language": "python",
   "name": "python3"
  },
  "language_info": {
   "codemirror_mode": {
    "name": "ipython",
    "version": 3
   },
   "file_extension": ".py",
   "mimetype": "text/x-python",
   "name": "python",
   "nbconvert_exporter": "python",
   "pygments_lexer": "ipython3",
   "version": "3.7.6"
  }
 },
 "nbformat": 4,
 "nbformat_minor": 2
}
